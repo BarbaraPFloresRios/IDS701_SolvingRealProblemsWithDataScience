{
 "cells": [
  {
   "cell_type": "markdown",
   "metadata": {},
   "source": [
    "<span style=\"color: #9370DB\">*Daniela Jiménez*</span>\n",
    "\n",
    "<span style=\"color: #9370DB\">*Bárbara Flores*</span>"
   ]
  },
  {
   "attachments": {},
   "cell_type": "markdown",
   "metadata": {},
   "source": [
    "# Estimating Gender Discrimination in the Workplace\n",
    "\n",
    "In this exercise we'll use data from the 2018 US Current Population Survey (CPS) to try and estimate the effect of being a woman on workplace compensation. \n",
    "\n",
    "Note that our focus will be *only* on differential compensation in the work place, and as a result it is important to bear in mind that our estimates are not estimates of *all* forms of gender discrimination. For example, these analyses will not account for things like gender discrimination in terms of *getting* jobs. We'll discuss this in more detail below."
   ]
  },
  {
   "cell_type": "markdown",
   "metadata": {},
   "source": [
    "## Exercise 1: \n",
    "\n",
    "Begin by downloading and importing 2018 CPS data from [https://github.com/nickeubank/MIDS_Data/tree/master/Current_Population_Survey](https://github.com/nickeubank/MIDS_Data/tree/master/Current_Population_Survey). The file is called `morg18.dta` and is a Stata dataset. Additional data on the dataset can be found by following the links in the README.txt file in the folder, but for the moment it is sufficient to know this is a national survey run in the United States.\n",
    "\n",
    "The survey does include some survey weights we won't be using (i.e. not everyone in the sample was included with the same probability), so the numbers we estimate will not be perfect estimates of the gender wage gap in the United States, but they are pretty close."
   ]
  },
  {
   "cell_type": "code",
   "execution_count": 33,
   "metadata": {},
   "outputs": [
    {
     "data": {
      "text/html": [
       "<div>\n",
       "<style scoped>\n",
       "    .dataframe tbody tr th:only-of-type {\n",
       "        vertical-align: middle;\n",
       "    }\n",
       "\n",
       "    .dataframe tbody tr th {\n",
       "        vertical-align: top;\n",
       "    }\n",
       "\n",
       "    .dataframe thead th {\n",
       "        text-align: right;\n",
       "    }\n",
       "</style>\n",
       "<table border=\"1\" class=\"dataframe\">\n",
       "  <thead>\n",
       "    <tr style=\"text-align: right;\">\n",
       "      <th></th>\n",
       "      <th>hhid</th>\n",
       "      <th>intmonth</th>\n",
       "      <th>hurespli</th>\n",
       "      <th>hrhtype</th>\n",
       "      <th>minsamp</th>\n",
       "      <th>hrlonglk</th>\n",
       "      <th>hrsample</th>\n",
       "      <th>hrhhid2</th>\n",
       "      <th>serial</th>\n",
       "      <th>hhnum</th>\n",
       "      <th>...</th>\n",
       "      <th>ym_file</th>\n",
       "      <th>ym</th>\n",
       "      <th>ch02</th>\n",
       "      <th>ch35</th>\n",
       "      <th>ch613</th>\n",
       "      <th>ch1417</th>\n",
       "      <th>ch05</th>\n",
       "      <th>ihigrdc</th>\n",
       "      <th>docc00</th>\n",
       "      <th>dind02</th>\n",
       "    </tr>\n",
       "  </thead>\n",
       "  <tbody>\n",
       "    <tr>\n",
       "      <th>0</th>\n",
       "      <td>000004795110719</td>\n",
       "      <td>January</td>\n",
       "      <td>1.0</td>\n",
       "      <td>Husband/wife primary fam (neither in Armed For...</td>\n",
       "      <td>MIS 8</td>\n",
       "      <td>MIS 2-4 Or MIS 6-8 (link To</td>\n",
       "      <td>0601</td>\n",
       "      <td>06011</td>\n",
       "      <td>1</td>\n",
       "      <td>1</td>\n",
       "      <td>...</td>\n",
       "      <td>696</td>\n",
       "      <td>681</td>\n",
       "      <td>0</td>\n",
       "      <td>0</td>\n",
       "      <td>0</td>\n",
       "      <td>0</td>\n",
       "      <td>0</td>\n",
       "      <td>14.0</td>\n",
       "      <td>NaN</td>\n",
       "      <td>NaN</td>\n",
       "    </tr>\n",
       "    <tr>\n",
       "      <th>1</th>\n",
       "      <td>000004795110719</td>\n",
       "      <td>January</td>\n",
       "      <td>1.0</td>\n",
       "      <td>Husband/wife primary fam (neither in Armed For...</td>\n",
       "      <td>MIS 8</td>\n",
       "      <td>MIS 2-4 Or MIS 6-8 (link To</td>\n",
       "      <td>0601</td>\n",
       "      <td>06011</td>\n",
       "      <td>1</td>\n",
       "      <td>1</td>\n",
       "      <td>...</td>\n",
       "      <td>696</td>\n",
       "      <td>681</td>\n",
       "      <td>0</td>\n",
       "      <td>0</td>\n",
       "      <td>0</td>\n",
       "      <td>0</td>\n",
       "      <td>0</td>\n",
       "      <td>13.0</td>\n",
       "      <td>NaN</td>\n",
       "      <td>NaN</td>\n",
       "    </tr>\n",
       "    <tr>\n",
       "      <th>2</th>\n",
       "      <td>000110339935453</td>\n",
       "      <td>January</td>\n",
       "      <td>1.0</td>\n",
       "      <td>Unmarried civilian female primary fam householder</td>\n",
       "      <td>MIS 4</td>\n",
       "      <td>MIS 2-4 Or MIS 6-8 (link To</td>\n",
       "      <td>0701</td>\n",
       "      <td>07011</td>\n",
       "      <td>1</td>\n",
       "      <td>1</td>\n",
       "      <td>...</td>\n",
       "      <td>696</td>\n",
       "      <td>693</td>\n",
       "      <td>0</td>\n",
       "      <td>0</td>\n",
       "      <td>0</td>\n",
       "      <td>1</td>\n",
       "      <td>0</td>\n",
       "      <td>12.0</td>\n",
       "      <td>Office and administrative support occupations</td>\n",
       "      <td>Health care services , except hospitals</td>\n",
       "    </tr>\n",
       "    <tr>\n",
       "      <th>3</th>\n",
       "      <td>000110339935453</td>\n",
       "      <td>January</td>\n",
       "      <td>1.0</td>\n",
       "      <td>Unmarried civilian female primary fam householder</td>\n",
       "      <td>MIS 4</td>\n",
       "      <td>MIS 2-4 Or MIS 6-8 (link To</td>\n",
       "      <td>0701</td>\n",
       "      <td>07011</td>\n",
       "      <td>1</td>\n",
       "      <td>1</td>\n",
       "      <td>...</td>\n",
       "      <td>696</td>\n",
       "      <td>693</td>\n",
       "      <td>0</td>\n",
       "      <td>0</td>\n",
       "      <td>0</td>\n",
       "      <td>0</td>\n",
       "      <td>0</td>\n",
       "      <td>12.0</td>\n",
       "      <td>Office and administrative support occupations</td>\n",
       "      <td>Administrative and support services</td>\n",
       "    </tr>\n",
       "    <tr>\n",
       "      <th>4</th>\n",
       "      <td>000110359424339</td>\n",
       "      <td>January</td>\n",
       "      <td>1.0</td>\n",
       "      <td>Unmarried civilian female primary fam householder</td>\n",
       "      <td>MIS 4</td>\n",
       "      <td>MIS 2-4 Or MIS 6-8 (link To</td>\n",
       "      <td>0711</td>\n",
       "      <td>07111</td>\n",
       "      <td>1</td>\n",
       "      <td>1</td>\n",
       "      <td>...</td>\n",
       "      <td>696</td>\n",
       "      <td>693</td>\n",
       "      <td>0</td>\n",
       "      <td>0</td>\n",
       "      <td>0</td>\n",
       "      <td>0</td>\n",
       "      <td>0</td>\n",
       "      <td>NaN</td>\n",
       "      <td>Healthcare practitioner and technical occupations</td>\n",
       "      <td>Hospitals</td>\n",
       "    </tr>\n",
       "  </tbody>\n",
       "</table>\n",
       "<p>5 rows × 98 columns</p>\n",
       "</div>"
      ],
      "text/plain": [
       "              hhid intmonth  hurespli  \\\n",
       "0  000004795110719  January       1.0   \n",
       "1  000004795110719  January       1.0   \n",
       "2  000110339935453  January       1.0   \n",
       "3  000110339935453  January       1.0   \n",
       "4  000110359424339  January       1.0   \n",
       "\n",
       "                                             hrhtype minsamp  \\\n",
       "0  Husband/wife primary fam (neither in Armed For...   MIS 8   \n",
       "1  Husband/wife primary fam (neither in Armed For...   MIS 8   \n",
       "2  Unmarried civilian female primary fam householder   MIS 4   \n",
       "3  Unmarried civilian female primary fam householder   MIS 4   \n",
       "4  Unmarried civilian female primary fam householder   MIS 4   \n",
       "\n",
       "                      hrlonglk hrsample hrhhid2 serial  hhnum  ... ym_file  \\\n",
       "0  MIS 2-4 Or MIS 6-8 (link To     0601   06011      1      1  ...     696   \n",
       "1  MIS 2-4 Or MIS 6-8 (link To     0601   06011      1      1  ...     696   \n",
       "2  MIS 2-4 Or MIS 6-8 (link To     0701   07011      1      1  ...     696   \n",
       "3  MIS 2-4 Or MIS 6-8 (link To     0701   07011      1      1  ...     696   \n",
       "4  MIS 2-4 Or MIS 6-8 (link To     0711   07111      1      1  ...     696   \n",
       "\n",
       "    ym  ch02  ch35  ch613  ch1417  ch05  ihigrdc  \\\n",
       "0  681     0     0      0       0     0     14.0   \n",
       "1  681     0     0      0       0     0     13.0   \n",
       "2  693     0     0      0       1     0     12.0   \n",
       "3  693     0     0      0       0     0     12.0   \n",
       "4  693     0     0      0       0     0      NaN   \n",
       "\n",
       "                                              docc00  \\\n",
       "0                                                NaN   \n",
       "1                                                NaN   \n",
       "2      Office and administrative support occupations   \n",
       "3      Office and administrative support occupations   \n",
       "4  Healthcare practitioner and technical occupations   \n",
       "\n",
       "                                    dind02  \n",
       "0                                      NaN  \n",
       "1                                      NaN  \n",
       "2  Health care services , except hospitals  \n",
       "3      Administrative and support services  \n",
       "4                                Hospitals  \n",
       "\n",
       "[5 rows x 98 columns]"
      ]
     },
     "execution_count": 33,
     "metadata": {},
     "output_type": "execute_result"
    }
   ],
   "source": [
    "import pandas as pd\n",
    "import statsmodels.formula.api as smf\n",
    "\n",
    "path = \"https://github.com/nickeubank/MIDS_Data/raw/master/Current_Population_Survey/morg18.dta\"\n",
    "morg18 = pd.read_stata(path)\n",
    "morg18.head()"
   ]
  },
  {
   "attachments": {},
   "cell_type": "markdown",
   "metadata": {},
   "source": [
    "## Exercise 2:\n",
    "\n",
    "Because our interest is only in-the-workplace wage discrimination among full-time workers, we need to start by subsetting our data for people currently employed (and \"at work\", not \"absent\") at the time of this survey using the `lfsr94` variable, who are employed full time (meaning that their usual hours per week—`uhourse`—is 35 or above).\n",
    "\n",
    "As noted above, this analysis will miss many forms of gender discrimination. For example, in dropping anyone who isn't working, we immediately lose any women who couldn't get jobs, or who chose to lose the workforce because the wages they were offered (which were likely lower than those offered men) were lower than they were willing / could accept. And in focusing on full time employees, we miss the fact women may not be offered full time jobs at the same rate as men. "
   ]
  },
  {
   "cell_type": "code",
   "execution_count": 34,
   "metadata": {},
   "outputs": [],
   "source": [
    "morg18 = morg18[morg18[\"lfsr94\"] == \"Employed-At Work\"]\n",
    "morg18 = morg18[morg18[\"uhourse\"] >= 35]"
   ]
  },
  {
   "attachments": {},
   "cell_type": "markdown",
   "metadata": {},
   "source": [
    "## Exercise 3\n",
    "\n",
    "Now let's estimate the basic wage gap for the United States!\n",
    "\n",
    "Earnings per week worked can be found in the `earnwke` variable. Using the variable `sex` (1=Male, 2=Female), estimate the gender wage gap in terms of wages per hour worked!\n",
    "\n",
    "(You may also find it helpful, for context, to estimate the average hourly pay by dividing weekly pay by `uhourse`.)"
   ]
  },
  {
   "cell_type": "code",
   "execution_count": 35,
   "metadata": {},
   "outputs": [
    {
     "data": {
      "text/plain": [
       "(133814, 98)"
      ]
     },
     "execution_count": 35,
     "metadata": {},
     "output_type": "execute_result"
    }
   ],
   "source": [
    "morg18.shape"
   ]
  },
  {
   "cell_type": "code",
   "execution_count": 36,
   "metadata": {},
   "outputs": [
    {
     "name": "stdout",
     "output_type": "stream",
     "text": [
      "\n",
      "The average weekly salary for men is $1,204.73\n",
      "The average weekly salary for women is $985.68\n",
      "\n",
      "The gender wage gap in the United States is $219.05 per week\n"
     ]
    }
   ],
   "source": [
    "average_salary_male_weekly = morg18[morg18[\"sex\"] == 1][\"earnwke\"].mean()\n",
    "average_salary_female_weekly = morg18[morg18[\"sex\"] == 2][\"earnwke\"].mean()\n",
    "\n",
    "weekly_gender_wage_gap = average_salary_male_weekly - average_salary_female_weekly\n",
    "\n",
    "print(f\"\\nThe average weekly salary for men is ${average_salary_male_weekly:,.2f}\")\n",
    "print(f\"The average weekly salary for women is ${average_salary_female_weekly:.2f}\")\n",
    "print(\n",
    "    f\"\\nThe gender wage gap in the United States is ${weekly_gender_wage_gap:.2f} per week\"\n",
    ")"
   ]
  },
  {
   "cell_type": "code",
   "execution_count": 37,
   "metadata": {},
   "outputs": [
    {
     "name": "stdout",
     "output_type": "stream",
     "text": [
      "The average hourly salary for men is $27.88\n",
      "The average hourly salary for women is $23.80\n",
      "\n",
      "The gender wage gap in the United States is $4.08 per hour\n"
     ]
    }
   ],
   "source": [
    "salary_per_hour_male = (\n",
    "    morg18[morg18[\"sex\"] == 1][\"earnwke\"] / morg18[morg18[\"sex\"] == 1][\"uhourse\"]\n",
    ").mean()\n",
    "salary_per_hour_female = (\n",
    "    morg18[morg18[\"sex\"] == 2][\"earnwke\"] / morg18[morg18[\"sex\"] == 2][\"uhourse\"]\n",
    ").mean()\n",
    "\n",
    "hourly_gender_wage_gap = salary_per_hour_male - salary_per_hour_female\n",
    "\n",
    "print(f\"The average hourly salary for men is ${salary_per_hour_male:,.2f}\")\n",
    "print(f\"The average hourly salary for women is ${salary_per_hour_female:,.2f}\")\n",
    "print(\n",
    "    f\"\\nThe gender wage gap in the United States is ${hourly_gender_wage_gap:,.2f} per hour\"\n",
    ")"
   ]
  },
  {
   "attachments": {},
   "cell_type": "markdown",
   "metadata": {},
   "source": [
    "## Exercise 4\n",
    "\n",
    "Assuming 48 work weeks in a year, calculate annual earnings for men and women. Report the difference in dollars and in percentage terms."
   ]
  },
  {
   "cell_type": "code",
   "execution_count": 38,
   "metadata": {},
   "outputs": [
    {
     "name": "stdout",
     "output_type": "stream",
     "text": [
      "Annual earnings for men: $57,827\n",
      "Annual earnings for women: $47,313\n",
      "\n",
      "The difference in earnings is $10,514 which represents 22.22% more earnings for men compared to women.\n"
     ]
    }
   ],
   "source": [
    "morg18[\"annual_earnings\"] = morg18[\"earnwke\"] * 48\n",
    "\n",
    "annual_earnings_male = morg18[morg18[\"sex\"] == 1][\"annual_earnings\"].mean()\n",
    "\n",
    "annual_earnings_female = morg18[morg18[\"sex\"] == 2][\"annual_earnings\"].mean()\n",
    "\n",
    "earnings_difference = annual_earnings_male - annual_earnings_female\n",
    "\n",
    "percentage_difference = (earnings_difference / annual_earnings_female) * 100\n",
    "\n",
    "print(f\"Annual earnings for men: ${annual_earnings_male:,.0f}\")\n",
    "print(f\"Annual earnings for women: ${annual_earnings_female:,.0f}\")\n",
    "print(\n",
    "    f\"\\nThe difference in earnings is ${earnings_difference:,.0f} which represents {percentage_difference:.2f}% more earnings for men compared to women.\"\n",
    ")"
   ]
  },
  {
   "cell_type": "markdown",
   "metadata": {},
   "source": [
    "## Exercise 5\n",
    "\n",
    "We just compared all full-time working men to all full-time working women. For this to be an accurate *causal* estimate of the effect of being a woman in the work place, what must be true of these two groups? What is one reason that this may *not* be true?"
   ]
  },
  {
   "cell_type": "markdown",
   "metadata": {},
   "source": [
    ">For this comparison to be accurate, both groups must be similar in other income-affecting characteristics such as age, race, educational level, etc. If these conditions were similar for both groups or had similar distributions, comparing the means of the two groups could provide a precise estimate of the effect of being a woman in the workplace.\n",
    ">\n",
    ">One reason why this assumption might not hold true is if women who have full-time jobs tend to have a higher average level of education than men (since they are more likely to have full-time jobs). In such a case, it would be necessary to control for educational level in our comparison to obtain a precise estimate of the effect of being a woman in the workplace."
   ]
  },
  {
   "attachments": {},
   "cell_type": "markdown",
   "metadata": {},
   "source": [
    "## Exercise 6\n",
    "\n",
    "One answer to the second part of Exercise 5 is that working women are likely to be younger, since a larger portion of younger women are entering the workforce as compared to older generations.\n",
    "\n",
    "To *control* for this difference, let's now regress annual earnings on gender, age, and age-squared (the relationship between age and income is generally non-linear). What is the implied average annual wage difference between women and men? Is it different from your raw estimate? "
   ]
  },
  {
   "cell_type": "markdown",
   "metadata": {},
   "source": [
    "> The following regression model shows the same results as the previous difference in means calculations"
   ]
  },
  {
   "cell_type": "code",
   "execution_count": 39,
   "metadata": {},
   "outputs": [
    {
     "name": "stdout",
     "output_type": "stream",
     "text": [
      "-10,514\n"
     ]
    }
   ],
   "source": [
    "morg18[\"female\"] = (morg18[\"sex\"] == 2).astype(int)\n",
    "model = smf.ols(\"annual_earnings ~ female \", morg18).fit()\n",
    "print(\"{:,.0f}\".format(round(model.params[\"female\"])))"
   ]
  },
  {
   "cell_type": "code",
   "execution_count": 40,
   "metadata": {},
   "outputs": [
    {
     "name": "stdout",
     "output_type": "stream",
     "text": [
      "                            OLS Regression Results                            \n",
      "==============================================================================\n",
      "Dep. Variable:        annual_earnings   R-squared:                       0.026\n",
      "Model:                            OLS   Adj. R-squared:                  0.026\n",
      "Method:                 Least Squares   F-statistic:                     3350.\n",
      "Date:                Tue, 09 Apr 2024   Prob (F-statistic):               0.00\n",
      "Time:                        08:42:29   Log-Likelihood:            -1.4464e+06\n",
      "No. Observations:              122603   AIC:                         2.893e+06\n",
      "Df Residuals:                  122601   BIC:                         2.893e+06\n",
      "Df Model:                           1                                         \n",
      "Covariance Type:                  HC3                                         \n",
      "==============================================================================\n",
      "                 coef    std err          t      P>|t|      [0.025      0.975]\n",
      "------------------------------------------------------------------------------\n",
      "Intercept   5.783e+04    133.001    434.787      0.000    5.76e+04    5.81e+04\n",
      "female     -1.051e+04    181.666    -57.878      0.000   -1.09e+04   -1.02e+04\n",
      "==============================================================================\n",
      "Omnibus:                    19177.795   Durbin-Watson:                   1.733\n",
      "Prob(Omnibus):                  0.000   Jarque-Bera (JB):            29456.620\n",
      "Skew:                           1.152   Prob(JB):                         0.00\n",
      "Kurtosis:                       3.679   Cond. No.                         2.52\n",
      "==============================================================================\n",
      "\n",
      "Notes:\n",
      "[1] Standard Errors are heteroscedasticity robust (HC3)\n"
     ]
    }
   ],
   "source": [
    "print(model.get_robustcov_results(\"HC3\").summary())"
   ]
  },
  {
   "cell_type": "markdown",
   "metadata": {},
   "source": [
    "> Let's now control for age"
   ]
  },
  {
   "cell_type": "code",
   "execution_count": 41,
   "metadata": {},
   "outputs": [
    {
     "name": "stdout",
     "output_type": "stream",
     "text": [
      "                            OLS Regression Results                            \n",
      "==============================================================================\n",
      "Dep. Variable:        annual_earnings   R-squared:                       0.083\n",
      "Model:                            OLS   Adj. R-squared:                  0.083\n",
      "Method:                 Least Squares   F-statistic:                     4820.\n",
      "Date:                Tue, 09 Apr 2024   Prob (F-statistic):               0.00\n",
      "Time:                        08:42:29   Log-Likelihood:            -1.4426e+06\n",
      "No. Observations:              122603   AIC:                         2.885e+06\n",
      "Df Residuals:                  122599   BIC:                         2.885e+06\n",
      "Df Model:                           3                                         \n",
      "Covariance Type:                  HC3                                         \n",
      "==============================================================================\n",
      "                 coef    std err          t      P>|t|      [0.025      0.975]\n",
      "------------------------------------------------------------------------------\n",
      "Intercept  -7102.4067    787.776     -9.016      0.000   -8646.434   -5558.380\n",
      "female     -1.074e+04    176.627    -60.778      0.000   -1.11e+04   -1.04e+04\n",
      "age         2730.5944     40.460     67.489      0.000    2651.294    2809.895\n",
      "age_2        -25.8227      0.477    -54.177      0.000     -26.757     -24.888\n",
      "==============================================================================\n",
      "Omnibus:                    18004.695   Durbin-Watson:                   1.739\n",
      "Prob(Omnibus):                  0.000   Jarque-Bera (JB):            27027.927\n",
      "Skew:                           1.096   Prob(JB):                         0.00\n",
      "Kurtosis:                       3.699   Cond. No.                     2.30e+04\n",
      "==============================================================================\n",
      "\n",
      "Notes:\n",
      "[1] Standard Errors are heteroscedasticity robust (HC3)\n",
      "[2] The condition number is large, 2.3e+04. This might indicate that there are\n",
      "strong multicollinearity or other numerical problems.\n"
     ]
    }
   ],
   "source": [
    "morg18[\"age\"] = morg18[\"age\"].astype(\"int64\")\n",
    "morg18[\"age_2\"] = morg18[\"age\"] ** 2\n",
    "model2 = smf.ols(\"annual_earnings ~ female + age + age_2\", morg18).fit()\n",
    "print(model2.get_robustcov_results(\"HC3\").summary())"
   ]
  },
  {
   "cell_type": "code",
   "execution_count": 42,
   "metadata": {},
   "outputs": [
    {
     "name": "stdout",
     "output_type": "stream",
     "text": [
      "\n",
      "The difference in earnings between male and woman, controled by age is -$10,735\n"
     ]
    }
   ],
   "source": [
    "earnings_difference_controled_by_age = model2.params[\"female\"]\n",
    "\n",
    "print(\n",
    "    f\"\\nThe difference in earnings between male and woman, controled by age is -${-earnings_difference_controled_by_age:,.0f}\"\n",
    ")"
   ]
  },
  {
   "cell_type": "markdown",
   "metadata": {},
   "source": [
    "> This difference is larger than the raw estimate calculated previously and it implies that controlling by age, the gender gap in earnings is even larger. "
   ]
  },
  {
   "cell_type": "markdown",
   "metadata": {},
   "source": [
    "## Exercise 7\n",
    "\n",
    "In running this regression and interpreting the coefficient on `female`, what is the implicit comparison you are making? In other words, when we run this regression and interpreting the coefficient on `female`, we're basically pretending we are comparing two groups and assuming they are counter-factuals for one another. What are these two groups?"
   ]
  },
  {
   "cell_type": "markdown",
   "metadata": {},
   "source": [
    "> When using the last regression and interpreting the coefficient of 'female,' we are comparing the group of women to men, assuming both groups have a similar age distribution."
   ]
  },
  {
   "cell_type": "markdown",
   "metadata": {},
   "source": [
    "## Exercise 8\n",
    "\n",
    "Now let's add to our regression an indicator variable for whether the respondent has at least graduated high school, and an indicator for whether the respondent at least has a BA. \n",
    "\n",
    "In answering this question, use the following table of codes for the variable `grade92`. \n",
    "\n",
    "Education is coded as follows:\n",
    "    \n",
    "![CPS Educ Codes](../images/cps_educ_codes.png)"
   ]
  },
  {
   "cell_type": "code",
   "execution_count": 43,
   "metadata": {},
   "outputs": [
    {
     "name": "stdout",
     "output_type": "stream",
     "text": [
      "                            OLS Regression Results                            \n",
      "==============================================================================\n",
      "Dep. Variable:        annual_earnings   R-squared:                       0.273\n",
      "Model:                            OLS   Adj. R-squared:                  0.273\n",
      "Method:                 Least Squares   F-statistic:                     9051.\n",
      "Date:                Tue, 09 Apr 2024   Prob (F-statistic):               0.00\n",
      "Time:                        08:42:29   Log-Likelihood:            -1.4284e+06\n",
      "No. Observations:              122603   AIC:                         2.857e+06\n",
      "Df Residuals:                  122597   BIC:                         2.857e+06\n",
      "Df Model:                           5                                         \n",
      "Covariance Type:                  HC3                                         \n",
      "=======================================================================================\n",
      "                          coef    std err          t      P>|t|      [0.025      0.975]\n",
      "---------------------------------------------------------------------------------------\n",
      "Intercept            -1.92e+04    734.939    -26.127      0.000   -2.06e+04   -1.78e+04\n",
      "high_school[T.True]   1.37e+04    223.566     61.271      0.000    1.33e+04    1.41e+04\n",
      "BA[T.True]           2.695e+04    178.315    151.132      0.000    2.66e+04    2.73e+04\n",
      "female              -1.304e+04    158.145    -82.447      0.000   -1.33e+04   -1.27e+04\n",
      "age                  2210.0675     35.692     61.920      0.000    2140.111    2280.024\n",
      "age_2                 -20.0288      0.418    -47.873      0.000     -20.849     -19.209\n",
      "==============================================================================\n",
      "Omnibus:                    14162.034   Durbin-Watson:                   1.851\n",
      "Prob(Omnibus):                  0.000   Jarque-Bera (JB):            20366.744\n",
      "Skew:                           0.887   Prob(JB):                         0.00\n",
      "Kurtosis:                       3.917   Cond. No.                     2.50e+04\n",
      "==============================================================================\n",
      "\n",
      "Notes:\n",
      "[1] Standard Errors are heteroscedasticity robust (HC3)\n",
      "[2] The condition number is large, 2.5e+04. This might indicate that there are\n",
      "strong multicollinearity or other numerical problems.\n"
     ]
    }
   ],
   "source": [
    "morg18[\"high_school\"] = morg18[\"grade92\"] >= 39\n",
    "morg18[\"BA\"] = morg18[\"grade92\"] >= 43\n",
    "\n",
    "\n",
    "model3 = smf.ols(\n",
    "    \"annual_earnings ~ female + age + age_2 + high_school + BA \", morg18\n",
    ").fit()\n",
    "print(model3.get_robustcov_results(\"HC3\").summary())"
   ]
  },
  {
   "cell_type": "code",
   "execution_count": 44,
   "metadata": {},
   "outputs": [
    {
     "name": "stdout",
     "output_type": "stream",
     "text": [
      "\n",
      "The difference in earnings between male and woman, controled by age, completion of high school and having at least a BA is -$13,039\n"
     ]
    }
   ],
   "source": [
    "earnings_difference_controled_by_age_education = model3.params[\"female\"]\n",
    "\n",
    "print(\n",
    "    f\"\\nThe difference in earnings between male and woman, controled by age, completion of high school and having at least a BA is -${-earnings_difference_controled_by_age_education:,.0f}\"\n",
    ")"
   ]
  },
  {
   "cell_type": "markdown",
   "metadata": {},
   "source": [
    "> This difference is larger than the raw estimate calculated previously and it implies that controlling by age, high school education and BA education, the gender gap in earnings is even larger. "
   ]
  },
  {
   "cell_type": "markdown",
   "metadata": {},
   "source": [
    "## Exercise 9 \n",
    "\n",
    "In running this regression and interpreting the coefficient on `female`, what is the implicit comparison you are making? In other words, when we run this regression and interpreting the coefficient on `female`, we are once more basically pretending we are comparing two groups and assuming they are counter-factuals for one another. What are these two groups?"
   ]
  },
  {
   "cell_type": "markdown",
   "metadata": {},
   "source": [
    "> When using the last regression and interpreting the coefficient of 'female,' we are comparing the group of women to men, assuming both groups have a similar age distribution and similar education levels."
   ]
  },
  {
   "cell_type": "markdown",
   "metadata": {},
   "source": [
    "## Exercise 10\n",
    "\n",
    "Given how the coefficient on `female` has changed between Exercise 6 and Exercise 8, what can you infer about the educational attainment of the women in your survey data (as compared to the educational attainment of men)?"
   ]
  },
  {
   "cell_type": "markdown",
   "metadata": {},
   "source": [
    "> Considering how the coefficient on female has decreased from -$10,735 to -$13,039 when controlling the regression for educational level, we can infer that the educational attainment of women in our survey data is likely higher than that of men.\n",
    ">\n",
    ">This inference is supported by the fact that after controlling for educational attainment, the gender wage gap expands. It can be inferred that women in the survey data tend to have higher levels of educational attainment compared to men, but despite this, they still face wage discrimination in the workplace.\n"
   ]
  },
  {
   "cell_type": "code",
   "execution_count": 45,
   "metadata": {},
   "outputs": [
    {
     "data": {
      "text/plain": [
       "female\n",
       "0    0.926028\n",
       "1    0.955296\n",
       "Name: high_school, dtype: float64"
      ]
     },
     "execution_count": 45,
     "metadata": {},
     "output_type": "execute_result"
    }
   ],
   "source": [
    "# we can also check this hypothesis:\n",
    "morg18.groupby(\"female\")[\"high_school\"].mean()"
   ]
  },
  {
   "cell_type": "code",
   "execution_count": 46,
   "metadata": {},
   "outputs": [
    {
     "data": {
      "text/plain": [
       "female\n",
       "0    0.374868\n",
       "1    0.444782\n",
       "Name: BA, dtype: float64"
      ]
     },
     "execution_count": 46,
     "metadata": {},
     "output_type": "execute_result"
    }
   ],
   "source": [
    "morg18.groupby(\"female\")[\"BA\"].mean()"
   ]
  },
  {
   "cell_type": "markdown",
   "metadata": {},
   "source": [
    ">We can see that for both the High School and BA variables, the average for the female group is higher, which confirms our hypothesis."
   ]
  },
  {
   "cell_type": "markdown",
   "metadata": {},
   "source": [
    "## Exercise 11\n",
    "\n",
    "What does that tell you about the *potential outcomes* of men and women before you added education as a control?"
   ]
  },
  {
   "cell_type": "markdown",
   "metadata": {},
   "source": [
    "> The observed difference in educational levels between men and women before adding education as a control suggests that there was a baseline difference between men and women. This means that, in terms of education, both groups have different educational levels; in this case, women have a higher proportion of individuals who have completed high school and at least a bachelor's degree in arts. Therefore, the comparison mentioned earlier was not correct, as it did not take into account the differences between both groups in terms of educational level (baseline difference)."
   ]
  },
  {
   "attachments": {},
   "cell_type": "markdown",
   "metadata": {},
   "source": [
    "## Exercise 12\n",
    "\n",
    "Finally, let's include *fixed effects* for the type of job held by each respondent. \n",
    "\n",
    "Fixed effects are a method used when we have a nested data structure in which respondents belong to groups, and those groups may all be subject to different pressures. In this context, for example, we can add fixed effects for the industry of each respondent—since wages often vary across industries, controlling for industry is likely to improve our estimates. Use `ind02` to control for industry.\n",
    "\n",
    "(Note that fixed effects are very similar in principle to hierarchical models. There are some differences [you will read about](../fixed_effects_v_hierarchical.ipynb) for our next class, but they are designed to serve the same role, just with slightly different mechanics). \n",
    "\n",
    "When we add fixed effects for groups like this, our interpretation of the other coefficients changes. Whereas in previous exercises we were trying to explain variation in men and women's wages *across all respondents*, we are now effectively comparing men and women's wages *within each employment sector*. Our coefficient on `female`, in other words, now tells us how much less (on average) we would expect a woman to be paid than a man *within the same industry*, not across all respondents. \n",
    "\n",
    "(Note that running this regression will result in lots of coefficients popping up you don't care about. We'll introduce some more efficient methods for adding fixed effects that aren't so messy in a later class -- for now, you can ignore those coefficients!)"
   ]
  },
  {
   "cell_type": "code",
   "execution_count": 47,
   "metadata": {},
   "outputs": [],
   "source": [
    "model4 = smf.ols(\n",
    "    \"annual_earnings ~ female + age + age_2 + high_school + BA  + ind02\", morg18\n",
    ").fit()\n",
    "# print(model4.get_robustcov_results(\"HC3\").summary())"
   ]
  },
  {
   "cell_type": "code",
   "execution_count": 48,
   "metadata": {},
   "outputs": [
    {
     "name": "stdout",
     "output_type": "stream",
     "text": [
      "\n",
      "The difference in earnings between male and woman, controled by age, completion of high school, having at least a BA and industry job is -$10,980\n"
     ]
    }
   ],
   "source": [
    "earnings_difference_controled_by_age_education = model4.params[\"female\"]\n",
    "\n",
    "print(\n",
    "    f\"\\nThe difference in earnings between male and woman, controled by age, completion of high school, having at least a BA and industry job is -${-earnings_difference_controled_by_age_education:,.0f}\"\n",
    ")"
   ]
  },
  {
   "cell_type": "markdown",
   "metadata": {},
   "source": [
    "## Exercise 13\n",
    "\n",
    "Now that we've added industry fixed effects, what groups are we implicitly treated as counter-factuals for one another now? "
   ]
  },
  {
   "cell_type": "markdown",
   "metadata": {},
   "source": [
    "> Regarding the interpretation of the 'female' coefficient, we are contrasting women with men, presuming that both cohorts share comparable age distributions, educational backgrounds, and occupations within the same industry."
   ]
  },
  {
   "cell_type": "markdown",
   "metadata": {},
   "source": [
    "## Exercise 14\n",
    "\n",
    "What happened to your estimate of the gender wage gap when you added industry fixed effects? What does that tell you about the industries chosen by women as opposed to men?"
   ]
  },
  {
   "cell_type": "markdown",
   "metadata": {},
   "source": [
    "> When we added industry as a control variable to our model, we saw a decrease in the gender wage gap from -$13,039 to -$10,980. This suggests that controlling for industry results in a reduction in the wage gap between men and women. Therefore, industries where women are represented tend to have lower wages compared to those where men predominate. In other words, this change in the wage gap estimation implies that there are systematic differences in wages between industries preferred by men and women."
   ]
  },
  {
   "attachments": {},
   "cell_type": "markdown",
   "metadata": {},
   "source": [
    "When you're done, please come read [this discussion](discussion_regressions_incomeineq.ipynb)."
   ]
  }
 ],
 "metadata": {
  "kernelspec": {
   "display_name": "base",
   "language": "python",
   "name": "python3"
  },
  "language_info": {
   "codemirror_mode": {
    "name": "ipython",
    "version": 3
   },
   "file_extension": ".py",
   "mimetype": "text/x-python",
   "name": "python",
   "nbconvert_exporter": "python",
   "pygments_lexer": "ipython3",
   "version": "3.11.5"
  },
  "vscode": {
   "interpreter": {
    "hash": "718fed28bf9f8c7851519acf2fb923cd655120b36de3b67253eeb0428bd33d2d"
   }
  }
 },
 "nbformat": 4,
 "nbformat_minor": 4
}
