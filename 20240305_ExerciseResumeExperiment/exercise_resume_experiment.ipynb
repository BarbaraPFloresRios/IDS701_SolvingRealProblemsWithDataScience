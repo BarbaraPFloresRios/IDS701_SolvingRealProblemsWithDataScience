{
 "cells": [
  {
   "attachments": {},
   "cell_type": "markdown",
   "metadata": {},
   "source": [
    "<span style=\"color: #9370DB\">*Bárbara Flores*</span>\n",
    "\n",
    "# Resume Experiment Analysis\n",
    "\n",
    "How much harder is it to get a job in the United States if you are Black than if you are White? Or, expressed differently, what is the *effect* of race on the difficulty of getting a job in the US?\n",
    "\n",
    "In this exercise, we will be analyzing data from a real world experiment designed to help answer this question. Namely, we will be analyzing data from a randomized experiment in which 4,870 ficticious resumes were sent out to employers in response to job adverts in Boston and Chicago in 2001. The resumes differ in various attributes including the names of the applicants, and different resumes were randomly allocated to job openings. \n",
    "\n",
    "The \"experiment\" part of the experiment is that resumes were randomly assigned Black- or White-sounding names, and then watched to see whether employers called the \"applicants\" with Black-sounding names at the same rate as the applicants with the White-sounding names.\n",
    "\n",
    "(Which names constituted \"Black-sounding names\" and \"White-sounding names\" was determined by analyzing names on Massachusetts birth certificates to determine which names were most associated with Black and White children, and then surveys were used to validate that the names were perceived as being associated with individuals of one racial category or the other. Also, please note I subscribe to the logic of [Kwame Anthony Appiah](https://www.theatlantic.com/ideas/archive/2020/06/time-to-capitalize-blackand-white/613159/) and chose to capitalize both the B in Black and the W in White). \n",
    "\n",
    "You can get access to original article [here](https://www.aeaweb.org/articles?id=10.1257/0002828042002561). \n",
    "\n",
    "**Note to Duke students:** if you are on the Duke campus network, you'll be able to access almost any academic journal articles directly; if you are off campus and want access, you can just go to the [Duke Library](https://library.duke.edu/) website and search for the article title. Once you find it, you'll be asked to log in, after which you'll have full access to the article. You will also find this pattern holds true at nearly any major University in the US.\n"
   ]
  },
  {
   "cell_type": "markdown",
   "metadata": {},
   "source": [
    "\n",
    "## Gradescope Autograding\n",
    "\n",
    "Please follow [all standard guidance](https://www.practicaldatascience.org/html/autograder_guidelines.html) for submitting this assignment to the Gradescope autograder, including storing your solutions in a dictionary called `results` and ensuring your notebook runs from the start to completion without any errors.\n",
    "\n",
    "For this assignment, please name your file `exercise_resume_experiment.ipynb` before uploading.\n",
    "\n",
    "You can check that you have answers for all questions in your `results` dictionary with this code:\n",
    "\n",
    "```python\n",
    "assert set(results.keys()) == {\n",
    "    \"ex2_pvalue_computerskills\",\n",
    "    \"ex2_pvalue_female\",\n",
    "    \"ex2_pvalue_yearsexp\",\n",
    "    \"ex3_pvalue_education\",\n",
    "    \"ex4_validity\",\n",
    "    \"ex5_pvalue\",\n",
    "    \"ex5_white_advantage_percent\",\n",
    "    \"ex5_white_advantage_percentage_points\",\n",
    "    \"ex6_black_pvalue\",\n",
    "    \"ex8_black_college\",\n",
    "    \"ex8_black_nocollege\",\n",
    "    \"ex8_college_heterogeneity\",\n",
    "    \"ex9_gender_and_discrimination\",\n",
    "    \"ex10_experiment_v_us\",\n",
    "}\n",
    "```\n",
    "\n",
    "\n",
    "### Submission Limits\n",
    "\n",
    "Please remember that you are **only allowed FOUR submissions to the autograder.** Your last submission (if you submit 4 or fewer times), or your third submission (if you submit more than 4 times) will determine your grade Submissions that error out will **not** count against this total.\n",
    "\n",
    "That's one more than usual in case there are issues with exercise clarity."
   ]
  },
  {
   "attachments": {},
   "cell_type": "markdown",
   "metadata": {},
   "source": [
    "## Checking for Balance\n",
    "\n",
    "The first step in analyzing any experiment is to check whether you have *balance* across your treatment arms—that is to say, do the people who were randomly assigned to the treatment group look like the people who were randomly assigned to the control group. Or in this case, do the resumes that ended up with Black-sounding names look like the resumes with White-sounding names. \n",
    "\n",
    "Checking for balance is critical for two reasons. First, it's always possible that random assignment will create profoundly different groups—the *Large of Large Numbers* is only a \"law\" in the limit. So we want to make sure we have reasonably similar groups from the outset. And second, it's also always possible that the randomization wasn't actually implemented correctly—you would be amazed at the number of ways that \"random assignment\" can go wrong! So if you ever do find you're getting unbalanced data, you should worry not only about whether the groups have baseline differences, but also whether the \"random assignment\" was actually random!\n",
    "\n",
    "### Exercise 1\n",
    "\n",
    "Download the data set from this experiment (`resume_experiment.dta`) from [github](https://github.com/nickeubank/MIDS_Data/tree/master/resume_experiment). To aid the autograder, please load the data directly from a URL.\n"
   ]
  },
  {
   "cell_type": "code",
   "execution_count": 32,
   "metadata": {},
   "outputs": [],
   "source": [
    "# import requests\n",
    "import warnings\n",
    "import pandas as pd\n",
    "from scipy.stats import chi2_contingency\n",
    "\n",
    "warnings.filterwarnings(\"ignore\")\n",
    "warnings.simplefilter(action=\"ignore\", category=FutureWarning)\n",
    "pd.set_option(\"mode.copy_on_write\", True)\n",
    "\n",
    "results = dict()"
   ]
  },
  {
   "cell_type": "code",
   "execution_count": 33,
   "metadata": {},
   "outputs": [
    {
     "data": {
      "text/html": [
       "<div>\n",
       "<style scoped>\n",
       "    .dataframe tbody tr th:only-of-type {\n",
       "        vertical-align: middle;\n",
       "    }\n",
       "\n",
       "    .dataframe tbody tr th {\n",
       "        vertical-align: top;\n",
       "    }\n",
       "\n",
       "    .dataframe thead th {\n",
       "        text-align: right;\n",
       "    }\n",
       "</style>\n",
       "<table border=\"1\" class=\"dataframe\">\n",
       "  <thead>\n",
       "    <tr style=\"text-align: right;\">\n",
       "      <th></th>\n",
       "      <th>education</th>\n",
       "      <th>ofjobs</th>\n",
       "      <th>yearsexp</th>\n",
       "      <th>computerskills</th>\n",
       "      <th>call</th>\n",
       "      <th>female</th>\n",
       "      <th>black</th>\n",
       "    </tr>\n",
       "  </thead>\n",
       "  <tbody>\n",
       "    <tr>\n",
       "      <th>0</th>\n",
       "      <td>4</td>\n",
       "      <td>2</td>\n",
       "      <td>6</td>\n",
       "      <td>1</td>\n",
       "      <td>0.0</td>\n",
       "      <td>1.0</td>\n",
       "      <td>0.0</td>\n",
       "    </tr>\n",
       "    <tr>\n",
       "      <th>1</th>\n",
       "      <td>3</td>\n",
       "      <td>3</td>\n",
       "      <td>6</td>\n",
       "      <td>1</td>\n",
       "      <td>0.0</td>\n",
       "      <td>1.0</td>\n",
       "      <td>0.0</td>\n",
       "    </tr>\n",
       "    <tr>\n",
       "      <th>2</th>\n",
       "      <td>4</td>\n",
       "      <td>1</td>\n",
       "      <td>6</td>\n",
       "      <td>1</td>\n",
       "      <td>0.0</td>\n",
       "      <td>1.0</td>\n",
       "      <td>1.0</td>\n",
       "    </tr>\n",
       "    <tr>\n",
       "      <th>3</th>\n",
       "      <td>3</td>\n",
       "      <td>4</td>\n",
       "      <td>6</td>\n",
       "      <td>1</td>\n",
       "      <td>0.0</td>\n",
       "      <td>1.0</td>\n",
       "      <td>1.0</td>\n",
       "    </tr>\n",
       "    <tr>\n",
       "      <th>4</th>\n",
       "      <td>3</td>\n",
       "      <td>3</td>\n",
       "      <td>22</td>\n",
       "      <td>1</td>\n",
       "      <td>0.0</td>\n",
       "      <td>1.0</td>\n",
       "      <td>0.0</td>\n",
       "    </tr>\n",
       "  </tbody>\n",
       "</table>\n",
       "</div>"
      ],
      "text/plain": [
       "   education  ofjobs  yearsexp  computerskills  call  female  black\n",
       "0          4       2         6               1   0.0     1.0    0.0\n",
       "1          3       3         6               1   0.0     1.0    0.0\n",
       "2          4       1         6               1   0.0     1.0    1.0\n",
       "3          3       4         6               1   0.0     1.0    1.0\n",
       "4          3       3        22               1   0.0     1.0    0.0"
      ]
     },
     "execution_count": 33,
     "metadata": {},
     "output_type": "execute_result"
    }
   ],
   "source": [
    "resume_experiment = pd.read_stata(\n",
    "    \"https://github.com/nickeubank/MIDS_Data/raw/master/resume_experiment/resume_experiment.dta\"\n",
    ")\n",
    "\n",
    "resume_experiment.head()"
   ]
  },
  {
   "cell_type": "markdown",
   "metadata": {},
   "source": [
    "\n",
    "### Exercise 2\n",
    "\n",
    "- `black` is the treatment variable in the data set (whether the resume has a \"Black-sounding\" name).\n",
    "- `call` is the dependent variable of interest (did the employer call the fictitious applicant for an interview)\n",
    "\n",
    "In addition, the data include a number of variables to describe the other features in each fictitious resume, including applicants education level (`education`), years of experience (`yearsexp`), gender (`female`), computer skills (`computerskills`), and number of previous jobs (`ofjobs`). Each resume has a random selection of these attributes, so on average the Black-named fictitious applicant resumes have the same qualifications as the White-named applicant resumes. \n",
    "\n",
    "Check for balance in terms of the average values of applicant gender (`female`), computer skills (`computerskills`), and years of experience (`yearsexp`) across the two arms of the experiment (i.e. by `black`). Calculate both the differences in means across treatment arms *and* test for statistical significance of these differences. Does gender, computer skills, and yearsexp look balanced across race groups in terms of both statistical significance and magnitude of difference?\n",
    "\n",
    "Store the p-values associated with your t-test of these variables in `ex2_pvalue_female`, `ex2_pvalue_computerskills`, and `ex2_pvalue_yearsexp`. **Round your values to 2 decimal places.**\n"
   ]
  },
  {
   "cell_type": "code",
   "execution_count": 34,
   "metadata": {},
   "outputs": [],
   "source": [
    "import statsmodels.formula.api as smf\n",
    "\n",
    "model1 = smf.ols(\"black ~ female\", resume_experiment).fit()\n",
    "model2 = smf.ols(\"black ~ computerskills\", resume_experiment).fit()\n",
    "model3 = smf.ols(\"black ~ yearsexp\", resume_experiment).fit()"
   ]
  },
  {
   "cell_type": "code",
   "execution_count": 35,
   "metadata": {},
   "outputs": [
    {
     "name": "stdout",
     "output_type": "stream",
     "text": [
      "                             Test for Constraints                             \n",
      "==============================================================================\n",
      "                 coef    std err          t      P>|t|      [0.025      0.975]\n",
      "------------------------------------------------------------------------------\n",
      "c0             0.0150      0.017      0.884      0.377      -0.018       0.048\n",
      "==============================================================================\n"
     ]
    }
   ],
   "source": [
    "hypothesis = \"female = 0\"\n",
    "print(model1.t_test(hypothesis))"
   ]
  },
  {
   "cell_type": "code",
   "execution_count": 36,
   "metadata": {},
   "outputs": [
    {
     "name": "stdout",
     "output_type": "stream",
     "text": [
      "                             Test for Constraints                             \n",
      "==============================================================================\n",
      "                 coef    std err          t      P>|t|      [0.025      0.975]\n",
      "------------------------------------------------------------------------------\n",
      "c0             0.0404      0.019      2.166      0.030       0.004       0.077\n",
      "==============================================================================\n"
     ]
    }
   ],
   "source": [
    "hypothesis = \"computerskills = 0\"\n",
    "print(model2.t_test(hypothesis))"
   ]
  },
  {
   "cell_type": "code",
   "execution_count": 37,
   "metadata": {},
   "outputs": [
    {
     "name": "stdout",
     "output_type": "stream",
     "text": [
      "                             Test for Constraints                             \n",
      "==============================================================================\n",
      "                 coef    std err          t      P>|t|      [0.025      0.975]\n",
      "------------------------------------------------------------------------------\n",
      "c0            -0.0003      0.001     -0.185      0.854      -0.003       0.003\n",
      "==============================================================================\n"
     ]
    }
   ],
   "source": [
    "hypothesis = \"yearsexp = 0\"\n",
    "print(model3.t_test(hypothesis))"
   ]
  },
  {
   "cell_type": "code",
   "execution_count": 38,
   "metadata": {},
   "outputs": [
    {
     "name": "stdout",
     "output_type": "stream",
     "text": [
      "P-value for gender obtained from the t-test: 0.38\n",
      "P-value for computer skills obtained from the t-test: 0.03\n",
      "P-value for years of experience (obtained from the t-test: 0.85\n"
     ]
    }
   ],
   "source": [
    "ex2_pvalue_female = model1.pvalues[\"female\"]\n",
    "ex2_pvalue_computerskills = model2.pvalues[\"computerskills\"]\n",
    "ex2_pvalue_yearsexp = model3.pvalues[\"yearsexp\"]\n",
    "\n",
    "results[\"ex2_pvalue_female\"] = round(ex2_pvalue_female, 2)\n",
    "results[\"ex2_pvalue_computerskills\"] = round(ex2_pvalue_computerskills, 2)\n",
    "results[\"ex2_pvalue_yearsexp\"] = round(ex2_pvalue_yearsexp, 2)\n",
    "\n",
    "print(f\"P-value for gender obtained from the t-test: {ex2_pvalue_female:.2f}\")\n",
    "print(\n",
    "    f\"P-value for computer skills obtained from the t-test: {ex2_pvalue_computerskills:.2f}\"\n",
    ")\n",
    "print(\n",
    "    f\"P-value for years of experience (obtained from the t-test: {ex2_pvalue_yearsexp:.2f}\"\n",
    ")"
   ]
  },
  {
   "cell_type": "markdown",
   "metadata": {},
   "source": [
    "> For the variables female and yearsexp, the p-values associated with these variables are 0.38 and 0.85, respectively, indicating that no statistically significant differences in the average values of gender and years of experience were observed between the black and non-black groups. On the other hand, for the variable computerskills, a p-value of 0.03 was found, indicating a statistically significant difference in computer skills between the black and non-black groups."
   ]
  },
  {
   "attachments": {},
   "cell_type": "markdown",
   "metadata": {},
   "source": [
    "### Exercise 3\n",
    "\n",
    "Do a similar tabulation for education (`education`). Education is a categorical variable coded as follows:\n",
    "\n",
    "- 0: Education not reported\n",
    "- 1: High school dropout\n",
    "- 2: High school graduate\n",
    "- 3: Some college\n",
    "- 4: College graduate or higher\n",
    "\n",
    "Because these are categorical, you shouldn't just calculate and compare means—you should compare share or count of observations with each value (e.g., a chi-squared contingency table). You may also find the `pd.crosstab` function useful.\n",
    "\n",
    "Does education look balanced across racial groups?\n",
    "\n",
    "Store the p-value from your chi squared test in results under the key `ex3_pvalue_education`. **Please round to 2 decimal places.**"
   ]
  },
  {
   "cell_type": "code",
   "execution_count": 39,
   "metadata": {},
   "outputs": [
    {
     "data": {
      "text/html": [
       "<div>\n",
       "<style scoped>\n",
       "    .dataframe tbody tr th:only-of-type {\n",
       "        vertical-align: middle;\n",
       "    }\n",
       "\n",
       "    .dataframe tbody tr th {\n",
       "        vertical-align: top;\n",
       "    }\n",
       "\n",
       "    .dataframe thead th {\n",
       "        text-align: right;\n",
       "    }\n",
       "</style>\n",
       "<table border=\"1\" class=\"dataframe\">\n",
       "  <thead>\n",
       "    <tr style=\"text-align: right;\">\n",
       "      <th>black</th>\n",
       "      <th>0.0</th>\n",
       "      <th>1.0</th>\n",
       "    </tr>\n",
       "    <tr>\n",
       "      <th>education</th>\n",
       "      <th></th>\n",
       "      <th></th>\n",
       "    </tr>\n",
       "  </thead>\n",
       "  <tbody>\n",
       "    <tr>\n",
       "      <th>0</th>\n",
       "      <td>18</td>\n",
       "      <td>28</td>\n",
       "    </tr>\n",
       "    <tr>\n",
       "      <th>1</th>\n",
       "      <td>18</td>\n",
       "      <td>22</td>\n",
       "    </tr>\n",
       "    <tr>\n",
       "      <th>2</th>\n",
       "      <td>142</td>\n",
       "      <td>132</td>\n",
       "    </tr>\n",
       "    <tr>\n",
       "      <th>3</th>\n",
       "      <td>513</td>\n",
       "      <td>493</td>\n",
       "    </tr>\n",
       "    <tr>\n",
       "      <th>4</th>\n",
       "      <td>1744</td>\n",
       "      <td>1760</td>\n",
       "    </tr>\n",
       "  </tbody>\n",
       "</table>\n",
       "</div>"
      ],
      "text/plain": [
       "black       0.0   1.0\n",
       "education            \n",
       "0            18    28\n",
       "1            18    22\n",
       "2           142   132\n",
       "3           513   493\n",
       "4          1744  1760"
      ]
     },
     "execution_count": 39,
     "metadata": {},
     "output_type": "execute_result"
    }
   ],
   "source": [
    "education_crosstab = pd.crosstab(\n",
    "    resume_experiment[\"education\"], resume_experiment[\"black\"]\n",
    ")\n",
    "\n",
    "education_crosstab"
   ]
  },
  {
   "cell_type": "code",
   "execution_count": 40,
   "metadata": {},
   "outputs": [
    {
     "name": "stdout",
     "output_type": "stream",
     "text": [
      "P-value for education obtained from the chi-squared test: 0.49\n"
     ]
    }
   ],
   "source": [
    "res = chi2_contingency(education_crosstab)\n",
    "ex3_pvalue_education = res.pvalue\n",
    "\n",
    "results[\"ex3_pvalue_education\"] = round(ex3_pvalue_education, 2)\n",
    "\n",
    "print(\n",
    "    f\"P-value for education obtained from the chi-squared test: {ex3_pvalue_education:.2f}\"\n",
    ")"
   ]
  },
  {
   "cell_type": "markdown",
   "metadata": {},
   "source": [
    "> Given the result of the chi-squared test, with a p-value of 0.49, there is not enough evidence to reject the null hypothesis that there is no significant association between education and racial group. Therefore, according to the chi-squared test analysis, education does not appear to be unbalanced across racial groups."
   ]
  },
  {
   "attachments": {},
   "cell_type": "markdown",
   "metadata": {},
   "source": [
    "### Exercise 4\n",
    "\n",
    "What do you make of the overall results on resume characteristics? Why do we care about whether these variables look similar across the race groups? And if they didn't look similar, would that be a threat to internal or external validity? \n",
    "\n",
    "Answer in markdown, then also store your answer to the question of whether imbalances are a threat to internal or external validity in `\"ex4_validity\"` as the string `\"internal\"` or `\"external\"`.\n"
   ]
  },
  {
   "cell_type": "markdown",
   "metadata": {},
   "source": [
    "> The first thing we are interested in knowing when we analyze an experiment is whether there is balance between our treatment group and our control group. Even if the selection was truly random, it can happen that the groups turn out to be different, which would imply that our assumption of \"No Baseline Differences\" between the treatment and control groups is not met. This concern refers to `internal validity`, as we are interested in knowing how well our predictions fit the data we already have."
   ]
  },
  {
   "cell_type": "code",
   "execution_count": 41,
   "metadata": {},
   "outputs": [],
   "source": [
    "results[\"ex4_validity\"] = \"internal\""
   ]
  },
  {
   "cell_type": "markdown",
   "metadata": {},
   "source": [
    "## Estimating Effect of Race"
   ]
  },
  {
   "attachments": {},
   "cell_type": "markdown",
   "metadata": {},
   "source": [
    "### Exercise 5\n",
    "\n",
    "The variable of interest in the data set is the variable `call`, which indicates a call back for an interview. Perform a two-sample t-test comparing applicants with black sounding names and white sounding names.\n",
    "\n",
    "Interpret your results—in both percentage *and* in percentage points, what is the effect of having a Black-sounding name (as opposed to a White-sounding name) on your resume?\n",
    "\n",
    "Store how much more likely a White applicant is to receive a call back than a Black respondent in percentage and percentage points in `\"ex5_white_advantage_percent\"`and `\"ex5_white_advantage_percentage_points\"`. Please scale percentages so 1 is 1% and percentage points so a value of `1` corresponds to 1 percentage point. **Please round these answers to 2 decimal places.**\n",
    "\n",
    "Store the p-value of the difference in `\"ex5_pvalue\"` **Please round your p-value to 5 decimal places.**"
   ]
  },
  {
   "cell_type": "code",
   "execution_count": 42,
   "metadata": {},
   "outputs": [
    {
     "data": {
      "text/html": [
       "<div>\n",
       "<style scoped>\n",
       "    .dataframe tbody tr th:only-of-type {\n",
       "        vertical-align: middle;\n",
       "    }\n",
       "\n",
       "    .dataframe tbody tr th {\n",
       "        vertical-align: top;\n",
       "    }\n",
       "\n",
       "    .dataframe thead th {\n",
       "        text-align: right;\n",
       "    }\n",
       "</style>\n",
       "<table border=\"1\" class=\"dataframe\">\n",
       "  <thead>\n",
       "    <tr style=\"text-align: right;\">\n",
       "      <th>black</th>\n",
       "      <th>0.0</th>\n",
       "      <th>1.0</th>\n",
       "    </tr>\n",
       "    <tr>\n",
       "      <th>call</th>\n",
       "      <th></th>\n",
       "      <th></th>\n",
       "    </tr>\n",
       "  </thead>\n",
       "  <tbody>\n",
       "    <tr>\n",
       "      <th>0.0</th>\n",
       "      <td>2200</td>\n",
       "      <td>2278</td>\n",
       "    </tr>\n",
       "    <tr>\n",
       "      <th>1.0</th>\n",
       "      <td>235</td>\n",
       "      <td>157</td>\n",
       "    </tr>\n",
       "  </tbody>\n",
       "</table>\n",
       "</div>"
      ],
      "text/plain": [
       "black   0.0   1.0\n",
       "call             \n",
       "0.0    2200  2278\n",
       "1.0     235   157"
      ]
     },
     "execution_count": 42,
     "metadata": {},
     "output_type": "execute_result"
    }
   ],
   "source": [
    "pd.crosstab(resume_experiment[\"call\"], resume_experiment[\"black\"])"
   ]
  },
  {
   "cell_type": "code",
   "execution_count": 43,
   "metadata": {},
   "outputs": [
    {
     "data": {
      "text/plain": [
       "black\n",
       "0.0    0.096509\n",
       "1.0    0.064476\n",
       "Name: call, dtype: float32"
      ]
     },
     "execution_count": 43,
     "metadata": {},
     "output_type": "execute_result"
    }
   ],
   "source": [
    "mean_call_by_race = resume_experiment.groupby(\"black\")[\"call\"].mean()\n",
    "mean_call_by_race"
   ]
  },
  {
   "cell_type": "code",
   "execution_count": 44,
   "metadata": {},
   "outputs": [],
   "source": [
    "ex5_white_advantage_percent = (\n",
    "    100 * (mean_call_by_race[0] - mean_call_by_race[1]) / mean_call_by_race[1]\n",
    ")\n",
    "\n",
    "ex5_white_advantage_percentage_points = 100 * (\n",
    "    mean_call_by_race[0] - mean_call_by_race[1]\n",
    ")\n",
    "\n",
    "results[\"ex5_white_advantage_percent\"] = round(ex5_white_advantage_percent, 2)\n",
    "results[\"ex5_white_advantage_percentage_points\"] = round(\n",
    "    ex5_white_advantage_percentage_points, 2\n",
    ")"
   ]
  },
  {
   "cell_type": "code",
   "execution_count": 45,
   "metadata": {},
   "outputs": [],
   "source": [
    "model = smf.ols(\"call ~ black\", resume_experiment).fit()\n",
    "\n",
    "ex5_pvalue = model.pvalues[\"black\"]\n",
    "results[\"ex5_pvalue\"] = round(ex5_pvalue, 5)"
   ]
  },
  {
   "cell_type": "code",
   "execution_count": 46,
   "metadata": {},
   "outputs": [
    {
     "name": "stdout",
     "output_type": "stream",
     "text": [
      "The advantage of having a White-sounding name over a Black-sounding name in terms of callback percentage is: 49.68%\n",
      "The advantage of having a White-sounding name over a Black-sounding name in terms of percentage points is: 3.20 percentage points\n",
      "The p-value of the difference in callback rates between applicants with Black-sounding names and White-sounding names is: 0.00004\n"
     ]
    }
   ],
   "source": [
    "print(\n",
    "    f\"The advantage of having a White-sounding name over a Black-sounding name in terms of callback percentage is: {ex5_white_advantage_percent:.2f}%\"\n",
    ")\n",
    "print(\n",
    "    f\"The advantage of having a White-sounding name over a Black-sounding name in terms of percentage points is: {ex5_white_advantage_percentage_points:.2f} percentage points\"\n",
    ")\n",
    "print(\n",
    "    f\"The p-value of the difference in callback rates between applicants with Black-sounding names and White-sounding names is: {ex5_pvalue:.5f}\"\n",
    ")"
   ]
  },
  {
   "cell_type": "markdown",
   "metadata": {},
   "source": [
    "> Based on the previous results, we can observe that there is a statistically significant difference in callback rates between applicants with Black-sounding names and those with White-sounding names. Specifically, applicants with White-sounding names have a higher callback rate than applicants with Black-sounding names."
   ]
  },
  {
   "attachments": {},
   "cell_type": "markdown",
   "metadata": {},
   "source": [
    "### Exercise 6\n",
    "\n",
    "Now, use a linear probability model (a linear regression with a 0/1 dependent variable!) to estimate the differential likelihood of being called back by applicant race (i.e. the racial discrimination by employers). Please use [statsmodels](https://www.statsmodels.org/stable/index.html).\n",
    "\n",
    "Since we have a limited dependent variable, be sure to use [heteroskedastic robust standard errors.](https://www.statsmodels.org/stable/generated/statsmodels.regression.linear_model.OLSResults.get_robustcov_results.html) Personally, I prefer the `HC3` implementation, as it tends to do better with smaller samples than other implementations.\n",
    "\n",
    "Interpret these results—what is the *effect* of having a Black-sounding name (as opposed to a White-sounding name) on your resume in terms of the likelihood you'll be called back? \n",
    "\n",
    "How does this compare to the estimate you got above in exercise 5?\n",
    "\n",
    "Store the p-value associated with `black` in `\"ex6_black_pvalue\"`. **Please round your pvalue to 5 decimal places.**"
   ]
  },
  {
   "cell_type": "code",
   "execution_count": 47,
   "metadata": {},
   "outputs": [
    {
     "name": "stdout",
     "output_type": "stream",
     "text": [
      "                            OLS Regression Results                            \n",
      "==============================================================================\n",
      "Dep. Variable:                   call   R-squared:                       0.003\n",
      "Model:                            OLS   Adj. R-squared:                  0.003\n",
      "Method:                 Least Squares   F-statistic:                     16.92\n",
      "Date:                Tue, 05 Mar 2024   Prob (F-statistic):           3.96e-05\n",
      "Time:                        12:20:37   Log-Likelihood:                -562.24\n",
      "No. Observations:                4870   AIC:                             1128.\n",
      "Df Residuals:                    4868   BIC:                             1141.\n",
      "Df Model:                           1                                         \n",
      "Covariance Type:                  HC3                                         \n",
      "==============================================================================\n",
      "                 coef    std err          t      P>|t|      [0.025      0.975]\n",
      "------------------------------------------------------------------------------\n",
      "Intercept      0.0965      0.006     16.121      0.000       0.085       0.108\n",
      "black         -0.0320      0.008     -4.114      0.000      -0.047      -0.017\n",
      "==============================================================================\n",
      "Omnibus:                     2969.205   Durbin-Watson:                   1.440\n",
      "Prob(Omnibus):                  0.000   Jarque-Bera (JB):            18927.068\n",
      "Skew:                           3.068   Prob(JB):                         0.00\n",
      "Kurtosis:                      10.458   Cond. No.                         2.62\n",
      "==============================================================================\n",
      "\n",
      "Notes:\n",
      "[1] Standard Errors are heteroscedasticity robust (HC3)\n"
     ]
    }
   ],
   "source": [
    "model = smf.ols(\"call ~ black\", resume_experiment).fit()\n",
    "print(model.get_robustcov_results(\"HC3\").summary())"
   ]
  },
  {
   "cell_type": "code",
   "execution_count": 48,
   "metadata": {},
   "outputs": [
    {
     "name": "stdout",
     "output_type": "stream",
     "text": [
      "The p-value associated with 'black' in the linear probability model is: 0.00004\n"
     ]
    }
   ],
   "source": [
    "ex6_black_pvalue = model.pvalues[\"black\"]\n",
    "results[\"ex6_black_pvalue\"] = round(ex6_black_pvalue, 5)\n",
    "print(\n",
    "    f\"The p-value associated with 'black' in the linear probability model is: {ex6_black_pvalue:.5f}\"\n",
    ")"
   ]
  },
  {
   "cell_type": "markdown",
   "metadata": {},
   "source": [
    "> The negative coefficient of -0.0320 for the variable 'black' in the linear probability model indicates that applicants with Black-sounding names have a lower probability of being called back by approximately 3.20 percentage points compared to those with White-sounding names. This finding is supported by a p-value of 4e-05, suggesting strong evidence that this coefficient is statistically significant. This p-value is the same as the one obtained in question 5."
   ]
  },
  {
   "attachments": {},
   "cell_type": "markdown",
   "metadata": {},
   "source": [
    "### Exercise 7\n",
    "\n",
    "Even when doing a randomized experiment, adding control variables to your regression *can* improve the statistical efficiency of your estimates of the treatment effect (the upside is the potential to explain residual variation; the downside is more parameters to be estimated). Adding controls can be particularly useful when randomization left some imbalances in covariates (which you may have seen above). \n",
    "\n",
    "Now let's see if we can improve our estimates by adding in other variables as controls. Add in `education`, `yearsexp`, `female`, and `computerskills`—be sure to treat education as a categorical variable!"
   ]
  },
  {
   "cell_type": "code",
   "execution_count": 49,
   "metadata": {},
   "outputs": [
    {
     "name": "stdout",
     "output_type": "stream",
     "text": [
      "                            OLS Regression Results                            \n",
      "==============================================================================\n",
      "Dep. Variable:                   call   R-squared:                       0.008\n",
      "Model:                            OLS   Adj. R-squared:                  0.006\n",
      "Method:                 Least Squares   F-statistic:                     4.350\n",
      "Date:                Tue, 05 Mar 2024   Prob (F-statistic):           3.04e-05\n",
      "Time:                        12:20:37   Log-Likelihood:                -551.02\n",
      "No. Observations:                4870   AIC:                             1120.\n",
      "Df Residuals:                    4861   BIC:                             1178.\n",
      "Df Model:                           8                                         \n",
      "Covariance Type:                  HC3                                         \n",
      "=====================================================================================\n",
      "                        coef    std err          t      P>|t|      [0.025      0.975]\n",
      "-------------------------------------------------------------------------------------\n",
      "Intercept             0.0821      0.040      2.053      0.040       0.004       0.160\n",
      "C(education)[T.1]    -0.0017      0.057     -0.030      0.976      -0.113       0.110\n",
      "C(education)[T.2] -8.953e-05      0.042     -0.002      0.998      -0.082       0.082\n",
      "C(education)[T.3]    -0.0025      0.039     -0.065      0.948      -0.079       0.074\n",
      "C(education)[T.4]    -0.0047      0.038     -0.124      0.901      -0.080       0.070\n",
      "black                -0.0316      0.008     -4.076      0.000      -0.047      -0.016\n",
      "yearsexp              0.0032      0.001      3.665      0.000       0.001       0.005\n",
      "computerskills       -0.0186      0.011     -1.616      0.106      -0.041       0.004\n",
      "female                0.0112      0.010      1.165      0.244      -0.008       0.030\n",
      "==============================================================================\n",
      "Omnibus:                     2950.646   Durbin-Watson:                   1.448\n",
      "Prob(Omnibus):                  0.000   Jarque-Bera (JB):            18631.250\n",
      "Skew:                           3.047   Prob(JB):                         0.00\n",
      "Kurtosis:                      10.395   Cond. No.                         225.\n",
      "==============================================================================\n",
      "\n",
      "Notes:\n",
      "[1] Standard Errors are heteroscedasticity robust (HC3)\n"
     ]
    }
   ],
   "source": [
    "model = smf.ols(\n",
    "    \"call ~ black + C(education) + yearsexp + computerskills + female\",\n",
    "    resume_experiment,\n",
    ").fit()\n",
    "print(model.get_robustcov_results(\"HC3\").summary())"
   ]
  },
  {
   "cell_type": "code",
   "execution_count": 50,
   "metadata": {},
   "outputs": [
    {
     "name": "stdout",
     "output_type": "stream",
     "text": [
      "-0.03161371958887789\n"
     ]
    }
   ],
   "source": [
    "print(model.params[\"black\"])"
   ]
  },
  {
   "cell_type": "code",
   "execution_count": 51,
   "metadata": {},
   "outputs": [
    {
     "name": "stdout",
     "output_type": "stream",
     "text": [
      "5e-05\n"
     ]
    }
   ],
   "source": [
    "print(round(model.pvalues[\"black\"], 5))"
   ]
  },
  {
   "cell_type": "markdown",
   "metadata": {},
   "source": [
    "> After adding control variables to my regression, the coefficient changed from -0.032 to -0.0316, with a p-value that changed from 4e-05 to 5e-05. In general, we can conclude that the results remain consistent. In other words, applicants with Black-sounding names have a lower probability of being called back compared to those with White-sounding names. "
   ]
  },
  {
   "cell_type": "markdown",
   "metadata": {},
   "source": [
    "## Estimating Heterogeneous Effects"
   ]
  },
  {
   "attachments": {},
   "cell_type": "markdown",
   "metadata": {},
   "source": [
    "### Exercise 8\n",
    "\n",
    "As you may recall from some past readings (such as this one on the [migraine medication Aimovig](https://ds4humans.com/30_questions/15_answering_exploratory_questions.html#faithful-representations)), our focus on estimating *Average Treatment Effects* runs the risk of papering over variation in how individuals respond. In the case of Aimovig, for example, nearly no patients actually experienced the Average Treatment Effect of the medication; around half of patients experienced no benefit, while the other half experienced a benefit of about twice the average treatment effect.\n",
    "\n",
    "So far in this analysis we've been focusing on the *average* effect of having a Black-sounding name (as compared to a White-sounding name). But we can actually use our regression framework to look for evidence of *heterogeneous treatment effects*—effects that are different for different types of people in our data. We accomplish this by *interacting* a variable we think may be related to experiencing a differential treatment effect with our treatment variable. For example, if we think that applicants with Black-sounding names who have a college degree are likely to experience less discrimination, we can interact `black` with an indicator for having a college degree. If having a college degree reduces discrimination, we could expect the interaction term to be positive. \n",
    "\n",
    "Is there more or less racial discrimination (the absolute magnitude difference in call back rates between Black and White applicants) among applicants who have a college degree? Store your answer as the string `\"more discrimination\"` or `\"less discrimination\"` under the key `\"ex8_college_heterogeneity\"`.\n",
    "\n",
    "Please still include `education`, `yearsexp`, `female`, and `computerskills` as controls.\n",
    "\n",
    "**Note:** it's relatively safe to assume that someone hiring employees who sees a resume that does *not* report education levels will assume the applicant does not have a college degree. So treat \"No education reported\" as \"not having a college degree.\"\n",
    "\n",
    "In percentage points, what is the difference in call back rates:\n",
    "\n",
    "- between White applicants without a college degree and Black applicants without a college degree (`ex8_black_nocollege`).\n",
    "- between White applicants with a college degree and Black applicants with a college degree (`ex8_black_college`).\n",
    "\n",
    "Use negative values to denote a lower probability for Black applicants to get a call back. **Scale so a value of `1` is a one percentage point difference. Please round your answer to 2 percentage points.**\n",
    "\n",
    "Focus on the coefficient values, even if the significance is low."
   ]
  },
  {
   "cell_type": "code",
   "execution_count": 52,
   "metadata": {},
   "outputs": [],
   "source": [
    "resume_experiment[\"college_degree\"] = (resume_experiment[\"education\"] == 4).astype(int)"
   ]
  },
  {
   "cell_type": "code",
   "execution_count": 53,
   "metadata": {},
   "outputs": [
    {
     "name": "stdout",
     "output_type": "stream",
     "text": [
      "                            OLS Regression Results                            \n",
      "==============================================================================\n",
      "Dep. Variable:                   call   R-squared:                       0.008\n",
      "Model:                            OLS   Adj. R-squared:                  0.007\n",
      "Method:                 Least Squares   F-statistic:                     5.874\n",
      "Date:                Tue, 05 Mar 2024   Prob (F-statistic):           4.06e-06\n",
      "Time:                        12:20:37   Log-Likelihood:                -550.77\n",
      "No. Observations:                4870   AIC:                             1116.\n",
      "Df Residuals:                    4863   BIC:                             1161.\n",
      "Df Model:                           6                                         \n",
      "Covariance Type:                  HC3                                         \n",
      "========================================================================================\n",
      "                           coef    std err          t      P>|t|      [0.025      0.975]\n",
      "----------------------------------------------------------------------------------------\n",
      "Intercept                0.0849      0.018      4.667      0.000       0.049       0.121\n",
      "black                   -0.0405      0.015     -2.719      0.007      -0.070      -0.011\n",
      "college_degree          -0.0090      0.014     -0.652      0.514      -0.036       0.018\n",
      "black:college_degree     0.0123      0.017      0.705      0.481      -0.022       0.047\n",
      "yearsexp                 0.0032      0.001      3.673      0.000       0.001       0.005\n",
      "computerskills          -0.0188      0.011     -1.660      0.097      -0.041       0.003\n",
      "female                   0.0110      0.010      1.147      0.251      -0.008       0.030\n",
      "==============================================================================\n",
      "Omnibus:                     2950.206   Durbin-Watson:                   1.448\n",
      "Prob(Omnibus):                  0.000   Jarque-Bera (JB):            18624.275\n",
      "Skew:                           3.047   Prob(JB):                         0.00\n",
      "Kurtosis:                      10.393   Cond. No.                         62.2\n",
      "==============================================================================\n",
      "\n",
      "Notes:\n",
      "[1] Standard Errors are heteroscedasticity robust (HC3)\n"
     ]
    }
   ],
   "source": [
    "model = smf.ols(\n",
    "    \"call ~ black*college_degree+ + black + college_degree + yearsexp + computerskills + female \",\n",
    "    resume_experiment,\n",
    ").fit()\n",
    "print(model.get_robustcov_results(\"HC3\").summary())"
   ]
  },
  {
   "cell_type": "code",
   "execution_count": 54,
   "metadata": {},
   "outputs": [
    {
     "name": "stdout",
     "output_type": "stream",
     "text": [
      "The difference in call back rates between Black applicants without a college degree and White applicants without a college degree is -4.05 percentage points.\n",
      "The difference in call back rates between Black applicants with a college degree and White applicants with a college degree is -2.82 percentage points.\n"
     ]
    }
   ],
   "source": [
    "# In percentage points, what is the difference in call back rates:\n",
    "# between White applicants without a college degree and Black applicants without a college degree (`ex8_black_nocollege`).\n",
    "\n",
    "ex8_black_nocollege = model.params[\"black\"] * 100\n",
    "results[\"ex8_black_nocollege\"] = round(ex8_black_nocollege, 2)\n",
    "\n",
    "# In percentage points, what is the difference in call back rates:\n",
    "# between White applicants with a college degree and Black applicants with a college degree (`ex8_black_college`).\n",
    "\n",
    "# ex8_black_college = (model.params[\"black\"] + model.params[\"black:college_degree\"]) * 100\n",
    "ex8_black_college = round((0.0123 - 0.0405) * 100, 2)\n",
    "results[\"ex8_black_college\"] = round(ex8_black_college, 2)\n",
    "\n",
    "print(\n",
    "    f\"The difference in call back rates between Black applicants without a college degree and White applicants without a college degree is {ex8_black_nocollege:.2f} percentage points.\\n\"\n",
    "    f\"The difference in call back rates between Black applicants with a college degree and White applicants with a college degree is {ex8_black_college:.2f} percentage points.\"\n",
    ")"
   ]
  },
  {
   "cell_type": "code",
   "execution_count": 55,
   "metadata": {},
   "outputs": [
    {
     "name": "stdout",
     "output_type": "stream",
     "text": [
      "Therefore, among applicants with a college degree, there is less discrimination in call back rates.\n"
     ]
    }
   ],
   "source": [
    "ex8_college_heterogeneity = \"less discrimination\"\n",
    "results[\"ex8_college_heterogeneity\"] = ex8_college_heterogeneity\n",
    "\n",
    "print(\n",
    "    f\"Therefore, among applicants with a college degree, there is {ex8_college_heterogeneity} in call back rates.\"\n",
    ")"
   ]
  },
  {
   "attachments": {},
   "cell_type": "markdown",
   "metadata": {},
   "source": [
    "### Exercise 9\n",
    "\n",
    "Now let's compare men and women—is the penalty for having a Black-sounding name greater for Black men or Black women? Store your answer as `\"greater discrimination for men\"` or `\"greater discrimination for women\"` in `\"ex9_gender_and_discrimination\"`.\n",
    "\n",
    "Focus on the coefficient values, even if the significance is low.\n",
    "\n",
    "Again, please still include `education`, `yearsexp`, `female`, and `computerskills` as controls."
   ]
  },
  {
   "cell_type": "code",
   "execution_count": 56,
   "metadata": {},
   "outputs": [
    {
     "name": "stdout",
     "output_type": "stream",
     "text": [
      "                            OLS Regression Results                            \n",
      "==============================================================================\n",
      "Dep. Variable:                   call   R-squared:                       0.008\n",
      "Model:                            OLS   Adj. R-squared:                  0.006\n",
      "Method:                 Least Squares   F-statistic:                     3.866\n",
      "Date:                Tue, 05 Mar 2024   Prob (F-statistic):           6.76e-05\n",
      "Time:                        12:20:37   Log-Likelihood:                -551.00\n",
      "No. Observations:                4870   AIC:                             1122.\n",
      "Df Residuals:                    4860   BIC:                             1187.\n",
      "Df Model:                           9                                         \n",
      "Covariance Type:                  HC3                                         \n",
      "=====================================================================================\n",
      "                        coef    std err          t      P>|t|      [0.025      0.975]\n",
      "-------------------------------------------------------------------------------------\n",
      "Intercept             0.0807      0.040      1.996      0.046       0.001       0.160\n",
      "C(education)[T.1]    -0.0021      0.057     -0.037      0.971      -0.114       0.110\n",
      "C(education)[T.2]    -0.0001      0.042     -0.003      0.998      -0.082       0.082\n",
      "C(education)[T.3]    -0.0026      0.039     -0.066      0.947      -0.079       0.074\n",
      "C(education)[T.4]    -0.0048      0.038     -0.125      0.900      -0.080       0.070\n",
      "black                -0.0287      0.016     -1.840      0.066      -0.059       0.002\n",
      "female                0.0131      0.014      0.919      0.358      -0.015       0.041\n",
      "black:female         -0.0038      0.018     -0.213      0.831      -0.039       0.031\n",
      "yearsexp              0.0032      0.001      3.668      0.000       0.001       0.005\n",
      "computerskills       -0.0186      0.011     -1.618      0.106      -0.041       0.004\n",
      "==============================================================================\n",
      "Omnibus:                     2950.616   Durbin-Watson:                   1.448\n",
      "Prob(Omnibus):                  0.000   Jarque-Bera (JB):            18630.964\n",
      "Skew:                           3.047   Prob(JB):                         0.00\n",
      "Kurtosis:                      10.395   Cond. No.                         226.\n",
      "==============================================================================\n",
      "\n",
      "Notes:\n",
      "[1] Standard Errors are heteroscedasticity robust (HC3)\n"
     ]
    }
   ],
   "source": [
    "model = smf.ols(\n",
    "    \"call ~ black*female+ + black + C(education)  + yearsexp + computerskills + female \",\n",
    "    resume_experiment,\n",
    ").fit()\n",
    "print(model.get_robustcov_results(\"HC3\").summary())"
   ]
  },
  {
   "cell_type": "code",
   "execution_count": 57,
   "metadata": {},
   "outputs": [
    {
     "name": "stdout",
     "output_type": "stream",
     "text": [
      "The difference in call back rates between Black male applicants and White male applicants is -2.87 percentage points.\n",
      "The difference in call back rates between Black female applicants and White female applicants is -3.25 percentage points.\n"
     ]
    }
   ],
   "source": [
    "black_male = model.params[\"black\"] * 100\n",
    "black_female = (model.params[\"black\"] + model.params[\"black:female\"]) * 100\n",
    "\n",
    "print(\n",
    "    f\"The difference in call back rates between Black male applicants and White male applicants is {black_male:.2f} percentage points.\\n\"\n",
    "    f\"The difference in call back rates between Black female applicants and White female applicants is {black_female:.2f} percentage points.\"\n",
    ")"
   ]
  },
  {
   "cell_type": "code",
   "execution_count": 58,
   "metadata": {},
   "outputs": [
    {
     "name": "stdout",
     "output_type": "stream",
     "text": [
      "Therefore, there is greater discrimination for women in call back rates.\n"
     ]
    }
   ],
   "source": [
    "ex9_gender_and_discrimination = \"greater discrimination for women\"\n",
    "results[\"ex9_gender_and_discrimination\"] = ex9_gender_and_discrimination\n",
    "print(f\"Therefore, there is {ex9_gender_and_discrimination} in call back rates.\")"
   ]
  },
  {
   "cell_type": "markdown",
   "metadata": {},
   "source": [
    "### Exercise 10\n",
    "\n",
    "Calculate and/or lookup the following online:\n",
    "\n",
    "- What is the share of applicants in our dataset with college degrees?\n",
    "- What share of Black adult Americans have college degrees (i.e. have completed a bachelors degree)?\n",
    "\n",
    "Is the share of Black applicants with college degrees in this data `\"greater\"`, or `\"less\"` than in the US? Store your answer as one of those strings in `\"ex10_experiment_v_us\"`"
   ]
  },
  {
   "cell_type": "markdown",
   "metadata": {},
   "source": [
    "> According to the Census' American Community Survey, in 2021 12% of the total U.S. population identified as Black or African American. Among Black residents aged 25 or over, 22.6% had earned a bachelor's degree or higher. "
   ]
  },
  {
   "cell_type": "code",
   "execution_count": 59,
   "metadata": {},
   "outputs": [
    {
     "name": "stdout",
     "output_type": "stream",
     "text": [
      "The share of applicants in our dataset with college degrees is: 72.0%\n",
      "The share of Black applicants in our dataset with college degrees is: 72.3%\n"
     ]
    }
   ],
   "source": [
    "college_degree_share = resume_experiment[\"college_degree\"].mean()\n",
    "black_college_degree_share = resume_experiment[resume_experiment[\"black\"] == 1][\n",
    "    \"college_degree\"\n",
    "].mean()\n",
    "\n",
    "print(\n",
    "    f\"The share of applicants in our dataset with college degrees is: {college_degree_share:.1%}\"\n",
    ")\n",
    "\n",
    "\n",
    "print(\n",
    "    f\"The share of Black applicants in our dataset with college degrees is: {black_college_degree_share:.1%}\"\n",
    ")"
   ]
  },
  {
   "cell_type": "code",
   "execution_count": 60,
   "metadata": {},
   "outputs": [
    {
     "name": "stdout",
     "output_type": "stream",
     "text": [
      "After researching online, we can conclude tha the share of Black applicants with college degrees in this data is greater than in the US.\n"
     ]
    }
   ],
   "source": [
    "ex10_experiment_v_us = \"greater\"\n",
    "results[\"ex10_experiment_v_us\"] = ex10_experiment_v_us\n",
    "\n",
    "print(\n",
    "    f\"After researching online, we can conclude tha the share of Black applicants with college degrees in this data is {ex10_experiment_v_us} than in the US.\"\n",
    ")"
   ]
  },
  {
   "attachments": {},
   "cell_type": "markdown",
   "metadata": {},
   "source": [
    "### Exercise 11\n",
    "\n",
    "Bearing in mind your answers to Exercise 8 and to Exercise 10, how do you think the Average Treatment Effect you estimated in Exercises 5 and 6 might generalize to the experience of the average Black American (i.e., how do you think the ATE for the average Black American would compare to the ATE estimated from this experiment)?\n"
   ]
  },
  {
   "cell_type": "markdown",
   "metadata": {},
   "source": [
    ">Considering my responses in Exercises 8 and 10, I believe that the Average Treatment Effect estimated in Exercises 5 and 6 does not adequately reflect the experience of the average Black American.\n",
    ">\n",
    ">On one hand, our dataset shows an artificially high proportion of Black individuals with college degrees compared to the actual share of Black adult Americans with such qualifications.\n",
    ">\n",
    ">On the other hand, we have observed that the discrimination effect against Black individuals in callback rates is lower among those with college degrees.\n",
    ">\n",
    ">Therefore, we could conclude that the ATE for the average Black American should be higher compared to the ATE estimated in this experiment, which is artificially reduced due to the disproportionately high proportion of individuals with college degrees in our sample"
   ]
  },
  {
   "attachments": {},
   "cell_type": "markdown",
   "metadata": {},
   "source": [
    "### Exercise 12\n",
    "\n",
    "What does your answer to Exercise 10 imply about the study's *internal* validity?"
   ]
  },
  {
   "cell_type": "markdown",
   "metadata": {},
   "source": [
    "> In general, we have observed that the distribution of data in the experiment samples is balanced. The proportion of variables such as gender, educational level, and computer skills is distributed similarly for both groups, so we can consider that the study has good internal validity. However, it is important to consider the limitations of the study, as it only measures the effect of having a Black-sounding name."
   ]
  },
  {
   "attachments": {},
   "cell_type": "markdown",
   "metadata": {},
   "source": [
    "### Exercise 13\n",
    "\n",
    "What does your answer to Exercise 10 imply about the study's *external* validity?"
   ]
  },
  {
   "cell_type": "markdown",
   "metadata": {},
   "source": [
    "> The study has limitations in terms of external validity, as it cannot be extended to other populations, meaning that it does not accurately represent the reality of the experience of a Black person in the United States. It is important to consider that external validity depends on the population we wish to compare it with. However, if our goal is to generalize to the Black population of the United States, our experiment has limited external validity, as the sample we are using differs significantly from the actual population. Furthermore, it does not take into account all the differences that may influence a person's experience in the labor market, beyond the impact of the name, whether it sounds like a Black or White name"
   ]
  },
  {
   "attachments": {},
   "cell_type": "markdown",
   "metadata": {},
   "source": [
    "## What Did We Just Measure?\n",
    "\n",
    "It's worth pausing for a moment to think about exactly what we've measured in this experiment. Was it the effect of race on hiring? Or the difference in the experience of the average White job applicant from the average Black job applicant?\n",
    "\n",
    "Well... no. What we have measured in this experiment is **just** the effect of having a Black-sounding name (as opposed to a White-sounding name) on your resume on the likelihood of getting a followup call from someone hiring in Boston or Chicago given identical resumes. In that sense, what we've measured is a small *piece* of the difference in the experience of Black and White Americans when seeking employment. As anyone looking for a job knows, getting a call-back is obviously a crucial step in getting a job, so this difference—even if it's just one part of the overall difference—is remarkable."
   ]
  },
  {
   "cell_type": "code",
   "execution_count": 61,
   "metadata": {},
   "outputs": [],
   "source": [
    "assert set(results.keys()) == {\n",
    "    \"ex2_pvalue_computerskills\",\n",
    "    \"ex2_pvalue_female\",\n",
    "    \"ex2_pvalue_yearsexp\",\n",
    "    \"ex3_pvalue_education\",\n",
    "    \"ex4_validity\",\n",
    "    \"ex5_pvalue\",\n",
    "    \"ex5_white_advantage_percent\",\n",
    "    \"ex5_white_advantage_percentage_points\",\n",
    "    \"ex6_black_pvalue\",\n",
    "    \"ex8_black_college\",\n",
    "    \"ex8_black_nocollege\",\n",
    "    \"ex8_college_heterogeneity\",\n",
    "    \"ex9_gender_and_discrimination\",\n",
    "    \"ex10_experiment_v_us\",\n",
    "}"
   ]
  },
  {
   "cell_type": "code",
   "execution_count": 63,
   "metadata": {},
   "outputs": [
    {
     "data": {
      "text/plain": [
       "{'ex2_pvalue_female': 0.38,\n",
       " 'ex2_pvalue_computerskills': 0.03,\n",
       " 'ex2_pvalue_yearsexp': 0.85,\n",
       " 'ex3_pvalue_education': 0.49,\n",
       " 'ex4_validity': 'internal',\n",
       " 'ex5_white_advantage_percent': 49.68,\n",
       " 'ex5_white_advantage_percentage_points': 3.2,\n",
       " 'ex5_pvalue': 4e-05,\n",
       " 'ex6_black_pvalue': 4e-05,\n",
       " 'ex8_black_nocollege': -4.05,\n",
       " 'ex8_black_college': -2.82,\n",
       " 'ex8_college_heterogeneity': 'less discrimination',\n",
       " 'ex9_gender_and_discrimination': 'greater discrimination for women',\n",
       " 'ex10_experiment_v_us': 'greater'}"
      ]
     },
     "execution_count": 63,
     "metadata": {},
     "output_type": "execute_result"
    }
   ],
   "source": [
    "results"
   ]
  }
 ],
 "metadata": {
  "kernelspec": {
   "display_name": "base",
   "language": "python",
   "name": "python3"
  },
  "language_info": {
   "codemirror_mode": {
    "name": "ipython",
    "version": 3
   },
   "file_extension": ".py",
   "mimetype": "text/x-python",
   "name": "python",
   "nbconvert_exporter": "python",
   "pygments_lexer": "ipython3",
   "version": "3.11.5"
  },
  "vscode": {
   "interpreter": {
    "hash": "718fed28bf9f8c7851519acf2fb923cd655120b36de3b67253eeb0428bd33d2d"
   }
  }
 },
 "nbformat": 4,
 "nbformat_minor": 4
}
